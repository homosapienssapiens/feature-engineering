{
  "nbformat": 4,
  "nbformat_minor": 0,
  "metadata": {
    "colab": {
      "name": "Trabajo final.ipynb",
      "provenance": [],
      "collapsed_sections": [],
      "mount_file_id": "1MY0DYsnXZljOVcxO11EuXLwgQdxvuRw5",
      "authorship_tag": "ABX9TyOC8OY62j3plO16oQqq+16d",
      "include_colab_link": true
    },
    "kernelspec": {
      "display_name": "Python 3",
      "name": "python3"
    },
    "language_info": {
      "name": "python"
    }
  },
  "cells": [
    {
      "cell_type": "markdown",
      "metadata": {
        "id": "view-in-github",
        "colab_type": "text"
      },
      "source": [
        "<a href=\"https://colab.research.google.com/github/homosapienssapiens/feature-engineering/blob/main/Final%20project.ipynb\" target=\"_parent\"><img src=\"https://colab.research.google.com/assets/colab-badge.svg\" alt=\"Open In Colab\"/></a>"
      ]
    },
    {
      "cell_type": "markdown",
      "metadata": {
        "id": "JYKbwhw943Xk"
      },
      "source": [
        "#Proyecto final\n",
        "Miguel Angel Solis Orozco  \n",
        "Ingeniería de características  \n",
        "Instituto de Estudios Superiores de Occidente  \n",
        "Prof: Dr. Carlos Augusto Arellano Muro\n",
        "\n",
        "---\n",
        "\n"
      ]
    },
    {
      "cell_type": "markdown",
      "metadata": {
        "id": "2NdopR7k6Eez"
      },
      "source": [
        "1. Separe las variables x1 y x2 en columnas diferentes."
      ]
    },
    {
      "cell_type": "code",
      "metadata": {
        "id": "-UmuMRxE4OIm"
      },
      "source": [
        "import pandas as pd"
      ],
      "execution_count": null,
      "outputs": []
    },
    {
      "cell_type": "code",
      "metadata": {
        "id": "PO_zpP934vhj"
      },
      "source": [
        "route = \"/content/drive/MyDrive/Maestría en ciencia de datos/2do semestre/Ingeniería de características/Trabajo final/\"\n",
        "df = pd.read_csv(route + \"data-1.csv\")"
      ],
      "execution_count": null,
      "outputs": []
    },
    {
      "cell_type": "code",
      "metadata": {
        "colab": {
          "base_uri": "https://localhost:8080/",
          "height": 402
        },
        "id": "jF-36FLA5Ktg",
        "outputId": "cb0adfcb-8ef8-4941-d71b-ae325209b6e4"
      },
      "source": [
        "df"
      ],
      "execution_count": null,
      "outputs": [
        {
          "output_type": "execute_result",
          "data": {
            "text/html": [
              "<div>\n",
              "<style scoped>\n",
              "    .dataframe tbody tr th:only-of-type {\n",
              "        vertical-align: middle;\n",
              "    }\n",
              "\n",
              "    .dataframe tbody tr th {\n",
              "        vertical-align: top;\n",
              "    }\n",
              "\n",
              "    .dataframe thead th {\n",
              "        text-align: right;\n",
              "    }\n",
              "</style>\n",
              "<table border=\"1\" class=\"dataframe\">\n",
              "  <thead>\n",
              "    <tr style=\"text-align: right;\">\n",
              "      <th></th>\n",
              "      <th>nombre</th>\n",
              "      <th>Fecha</th>\n",
              "      <th>data</th>\n",
              "    </tr>\n",
              "  </thead>\n",
              "  <tbody>\n",
              "    <tr>\n",
              "      <th>0</th>\n",
              "      <td>x1</td>\n",
              "      <td>2006-01-01</td>\n",
              "      <td>6.05</td>\n",
              "    </tr>\n",
              "    <tr>\n",
              "      <th>1</th>\n",
              "      <td>x1</td>\n",
              "      <td>2006-01-02</td>\n",
              "      <td>4.72</td>\n",
              "    </tr>\n",
              "    <tr>\n",
              "      <th>2</th>\n",
              "      <td>x1</td>\n",
              "      <td>2006-01-03</td>\n",
              "      <td>4.46</td>\n",
              "    </tr>\n",
              "    <tr>\n",
              "      <th>3</th>\n",
              "      <td>x1</td>\n",
              "      <td>2006-01-04</td>\n",
              "      <td>34.74</td>\n",
              "    </tr>\n",
              "    <tr>\n",
              "      <th>4</th>\n",
              "      <td>x1</td>\n",
              "      <td>2006-01-05</td>\n",
              "      <td>1.91</td>\n",
              "    </tr>\n",
              "    <tr>\n",
              "      <th>...</th>\n",
              "      <td>...</td>\n",
              "      <td>...</td>\n",
              "      <td>...</td>\n",
              "    </tr>\n",
              "    <tr>\n",
              "      <th>6566</th>\n",
              "      <td>x2</td>\n",
              "      <td>27/12/2014</td>\n",
              "      <td>-13.30</td>\n",
              "    </tr>\n",
              "    <tr>\n",
              "      <th>6567</th>\n",
              "      <td>x2</td>\n",
              "      <td>28/12/2014</td>\n",
              "      <td>16.20</td>\n",
              "    </tr>\n",
              "    <tr>\n",
              "      <th>6568</th>\n",
              "      <td>x2</td>\n",
              "      <td>29/12/2014</td>\n",
              "      <td>5.10</td>\n",
              "    </tr>\n",
              "    <tr>\n",
              "      <th>6569</th>\n",
              "      <td>x2</td>\n",
              "      <td>30/12/2014</td>\n",
              "      <td>4.90</td>\n",
              "    </tr>\n",
              "    <tr>\n",
              "      <th>6570</th>\n",
              "      <td>x2</td>\n",
              "      <td>31/12/2014</td>\n",
              "      <td>3.70</td>\n",
              "    </tr>\n",
              "  </tbody>\n",
              "</table>\n",
              "<p>6571 rows × 3 columns</p>\n",
              "</div>"
            ],
            "text/plain": [
              "     nombre       Fecha   data\n",
              "0        x1  2006-01-01   6.05\n",
              "1        x1  2006-01-02   4.72\n",
              "2        x1  2006-01-03   4.46\n",
              "3        x1  2006-01-04  34.74\n",
              "4        x1  2006-01-05   1.91\n",
              "...     ...         ...    ...\n",
              "6566     x2  27/12/2014 -13.30\n",
              "6567     x2  28/12/2014  16.20\n",
              "6568     x2  29/12/2014   5.10\n",
              "6569     x2  30/12/2014   4.90\n",
              "6570     x2  31/12/2014   3.70\n",
              "\n",
              "[6571 rows x 3 columns]"
            ]
          },
          "metadata": {
            "tags": []
          },
          "execution_count": 3
        }
      ]
    },
    {
      "cell_type": "markdown",
      "metadata": {
        "id": "wtLTk8EnKrMF"
      },
      "source": [
        "Analizando el DataFrame podemos ver que las fechas no se encuentran en el formato fecha correcto. A continuación pondremos el formato a date time."
      ]
    },
    {
      "cell_type": "code",
      "metadata": {
        "colab": {
          "base_uri": "https://localhost:8080/",
          "height": 402
        },
        "id": "MpM_gW-GJzhe",
        "outputId": "3c5dbd5f-975e-47b6-cfeb-0b2ba814fb01"
      },
      "source": [
        "df['Fecha'] = pd.to_datetime(df['Fecha'])\n",
        "df"
      ],
      "execution_count": null,
      "outputs": [
        {
          "output_type": "execute_result",
          "data": {
            "text/html": [
              "<div>\n",
              "<style scoped>\n",
              "    .dataframe tbody tr th:only-of-type {\n",
              "        vertical-align: middle;\n",
              "    }\n",
              "\n",
              "    .dataframe tbody tr th {\n",
              "        vertical-align: top;\n",
              "    }\n",
              "\n",
              "    .dataframe thead th {\n",
              "        text-align: right;\n",
              "    }\n",
              "</style>\n",
              "<table border=\"1\" class=\"dataframe\">\n",
              "  <thead>\n",
              "    <tr style=\"text-align: right;\">\n",
              "      <th></th>\n",
              "      <th>nombre</th>\n",
              "      <th>Fecha</th>\n",
              "      <th>data</th>\n",
              "    </tr>\n",
              "  </thead>\n",
              "  <tbody>\n",
              "    <tr>\n",
              "      <th>0</th>\n",
              "      <td>x1</td>\n",
              "      <td>2006-01-01</td>\n",
              "      <td>6.05</td>\n",
              "    </tr>\n",
              "    <tr>\n",
              "      <th>1</th>\n",
              "      <td>x1</td>\n",
              "      <td>2006-01-02</td>\n",
              "      <td>4.72</td>\n",
              "    </tr>\n",
              "    <tr>\n",
              "      <th>2</th>\n",
              "      <td>x1</td>\n",
              "      <td>2006-01-03</td>\n",
              "      <td>4.46</td>\n",
              "    </tr>\n",
              "    <tr>\n",
              "      <th>3</th>\n",
              "      <td>x1</td>\n",
              "      <td>2006-01-04</td>\n",
              "      <td>34.74</td>\n",
              "    </tr>\n",
              "    <tr>\n",
              "      <th>4</th>\n",
              "      <td>x1</td>\n",
              "      <td>2006-01-05</td>\n",
              "      <td>1.91</td>\n",
              "    </tr>\n",
              "    <tr>\n",
              "      <th>...</th>\n",
              "      <td>...</td>\n",
              "      <td>...</td>\n",
              "      <td>...</td>\n",
              "    </tr>\n",
              "    <tr>\n",
              "      <th>6566</th>\n",
              "      <td>x2</td>\n",
              "      <td>2014-12-27</td>\n",
              "      <td>-13.30</td>\n",
              "    </tr>\n",
              "    <tr>\n",
              "      <th>6567</th>\n",
              "      <td>x2</td>\n",
              "      <td>2014-12-28</td>\n",
              "      <td>16.20</td>\n",
              "    </tr>\n",
              "    <tr>\n",
              "      <th>6568</th>\n",
              "      <td>x2</td>\n",
              "      <td>2014-12-29</td>\n",
              "      <td>5.10</td>\n",
              "    </tr>\n",
              "    <tr>\n",
              "      <th>6569</th>\n",
              "      <td>x2</td>\n",
              "      <td>2014-12-30</td>\n",
              "      <td>4.90</td>\n",
              "    </tr>\n",
              "    <tr>\n",
              "      <th>6570</th>\n",
              "      <td>x2</td>\n",
              "      <td>2014-12-31</td>\n",
              "      <td>3.70</td>\n",
              "    </tr>\n",
              "  </tbody>\n",
              "</table>\n",
              "<p>6571 rows × 3 columns</p>\n",
              "</div>"
            ],
            "text/plain": [
              "     nombre      Fecha   data\n",
              "0        x1 2006-01-01   6.05\n",
              "1        x1 2006-01-02   4.72\n",
              "2        x1 2006-01-03   4.46\n",
              "3        x1 2006-01-04  34.74\n",
              "4        x1 2006-01-05   1.91\n",
              "...     ...        ...    ...\n",
              "6566     x2 2014-12-27 -13.30\n",
              "6567     x2 2014-12-28  16.20\n",
              "6568     x2 2014-12-29   5.10\n",
              "6569     x2 2014-12-30   4.90\n",
              "6570     x2 2014-12-31   3.70\n",
              "\n",
              "[6571 rows x 3 columns]"
            ]
          },
          "metadata": {
            "tags": []
          },
          "execution_count": 4
        }
      ]
    },
    {
      "cell_type": "code",
      "metadata": {
        "colab": {
          "background_save": true
        },
        "id": "iOuAlNrDqf-F",
        "outputId": "16567153-982f-4d9f-f8cc-11acecbcb904"
      },
      "source": [
        "dfsplit = pd.DataFrame(columns = ['Date', 'x1', 'x2'])\n",
        "x1 = float('NaN')\n",
        "x2 = float('NaN')\n",
        "mydates = pd.date_range(min(df['Fecha']), max(df['Fecha'])).tolist()\n",
        "for i in mydates:\n",
        "  for j in df.index:\n",
        "    if df.loc[j, 'Fecha'] == i:\n",
        "      fecha = df.loc[j, 'Fecha']\n",
        "      if df.loc[j, 'nombre'] == 'x1': \n",
        "        x1 = df.loc[j, 'data']\n",
        "      else:\n",
        "        x2 = df.loc[j, 'data']\n",
        "  row = {'Date': fecha,\n",
        "    'x1': x1,\n",
        "    'x2': x2}\n",
        "  dfsplit = dfsplit.append(row, ignore_index = True)\n",
        "  x1 = float('NaN')\n",
        "  x2 = float('NaN')\n",
        "dfsplit"
      ],
      "execution_count": null,
      "outputs": [
        {
          "output_type": "execute_result",
          "data": {
            "text/html": [
              "<div>\n",
              "<style scoped>\n",
              "    .dataframe tbody tr th:only-of-type {\n",
              "        vertical-align: middle;\n",
              "    }\n",
              "\n",
              "    .dataframe tbody tr th {\n",
              "        vertical-align: top;\n",
              "    }\n",
              "\n",
              "    .dataframe thead th {\n",
              "        text-align: right;\n",
              "    }\n",
              "</style>\n",
              "<table border=\"1\" class=\"dataframe\">\n",
              "  <thead>\n",
              "    <tr style=\"text-align: right;\">\n",
              "      <th></th>\n",
              "      <th>Date</th>\n",
              "      <th>x1</th>\n",
              "      <th>x2</th>\n",
              "    </tr>\n",
              "  </thead>\n",
              "  <tbody>\n",
              "    <tr>\n",
              "      <th>0</th>\n",
              "      <td>2006-01-01</td>\n",
              "      <td>6.05</td>\n",
              "      <td>9.22</td>\n",
              "    </tr>\n",
              "    <tr>\n",
              "      <th>1</th>\n",
              "      <td>2006-01-02</td>\n",
              "      <td>4.72</td>\n",
              "      <td>1.14</td>\n",
              "    </tr>\n",
              "    <tr>\n",
              "      <th>2</th>\n",
              "      <td>2006-01-03</td>\n",
              "      <td>4.46</td>\n",
              "      <td>-13.46</td>\n",
              "    </tr>\n",
              "    <tr>\n",
              "      <th>3</th>\n",
              "      <td>2006-01-04</td>\n",
              "      <td>34.74</td>\n",
              "      <td>3.33</td>\n",
              "    </tr>\n",
              "    <tr>\n",
              "      <th>4</th>\n",
              "      <td>2006-01-05</td>\n",
              "      <td>1.91</td>\n",
              "      <td>-0.14</td>\n",
              "    </tr>\n",
              "    <tr>\n",
              "      <th>...</th>\n",
              "      <td>...</td>\n",
              "      <td>...</td>\n",
              "      <td>...</td>\n",
              "    </tr>\n",
              "    <tr>\n",
              "      <th>3282</th>\n",
              "      <td>2014-12-27</td>\n",
              "      <td>13.16</td>\n",
              "      <td>-13.30</td>\n",
              "    </tr>\n",
              "    <tr>\n",
              "      <th>3283</th>\n",
              "      <td>2014-12-28</td>\n",
              "      <td>8.50</td>\n",
              "      <td>16.20</td>\n",
              "    </tr>\n",
              "    <tr>\n",
              "      <th>3284</th>\n",
              "      <td>2014-12-29</td>\n",
              "      <td>11.03</td>\n",
              "      <td>5.10</td>\n",
              "    </tr>\n",
              "    <tr>\n",
              "      <th>3285</th>\n",
              "      <td>2014-12-30</td>\n",
              "      <td>21.33</td>\n",
              "      <td>4.90</td>\n",
              "    </tr>\n",
              "    <tr>\n",
              "      <th>3286</th>\n",
              "      <td>2014-12-31</td>\n",
              "      <td>4.13</td>\n",
              "      <td>3.70</td>\n",
              "    </tr>\n",
              "  </tbody>\n",
              "</table>\n",
              "<p>3287 rows × 3 columns</p>\n",
              "</div>"
            ],
            "text/plain": [
              "           Date     x1     x2\n",
              "0    2006-01-01   6.05   9.22\n",
              "1    2006-01-02   4.72   1.14\n",
              "2    2006-01-03   4.46 -13.46\n",
              "3    2006-01-04  34.74   3.33\n",
              "4    2006-01-05   1.91  -0.14\n",
              "...         ...    ...    ...\n",
              "3282 2014-12-27  13.16 -13.30\n",
              "3283 2014-12-28   8.50  16.20\n",
              "3284 2014-12-29  11.03   5.10\n",
              "3285 2014-12-30  21.33   4.90\n",
              "3286 2014-12-31   4.13   3.70\n",
              "\n",
              "[3287 rows x 3 columns]"
            ]
          },
          "metadata": {
            "tags": []
          },
          "execution_count": 0
        }
      ]
    },
    {
      "cell_type": "markdown",
      "metadata": {
        "id": "zmrRCrpU6Kmz"
      },
      "source": [
        "2. Elija y justifique un método de imputación de datos para los datos perdidos y los datos menores o iguales que cero."
      ]
    },
    {
      "cell_type": "code",
      "metadata": {
        "id": "KbiGCI6L6OQd"
      },
      "source": [
        ""
      ],
      "execution_count": null,
      "outputs": []
    }
  ]
}